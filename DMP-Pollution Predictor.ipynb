{
  "nbformat": 4,
  "nbformat_minor": 0,
  "metadata": {
    "colab": {
      "name": "DMP - Pollution Predictor.ipynb",
      "provenance": [],
      "collapsed_sections": [
        "hswocrCM4RQP",
        "wVYEnCMTe6GW",
        "NUiePytpNwoU",
        "clbV3SS6cOKD",
        "5O23A0-czfml"
      ]
    },
    "kernelspec": {
      "name": "python3",
      "display_name": "Python 3"
    },
    "language_info": {
      "name": "python"
    }
  },
  "cells": [
    {
      "cell_type": "markdown",
      "metadata": {
        "id": "hswocrCM4RQP"
      },
      "source": [
        "# ***Preface***"
      ]
    },
    {
      "cell_type": "markdown",
      "metadata": {
        "id": "RucxzUaZ4Vlc"
      },
      "source": [
        "This Collab was made in accordance to Data Mining Project for CSE PDEU Sem 5."
      ]
    },
    {
      "cell_type": "markdown",
      "metadata": {
        "id": "lvrjH22l4i2Z"
      },
      "source": [
        "Team: DMP_27 \n",
        "\n",
        "---\n",
        "\n",
        "19BCP016 - Bhagvatsinh Jadeja / \n",
        "19BCP093 - Pathik Viramgama / \n",
        "19BCP137 - Vatsal Sevalia"
      ]
    },
    {
      "cell_type": "markdown",
      "metadata": {
        "id": "L1tABKfR5fjR"
      },
      "source": [
        "\n",
        "\n",
        "---\n",
        "\n"
      ]
    },
    {
      "cell_type": "markdown",
      "metadata": {
        "id": "wVYEnCMTe6GW"
      },
      "source": [
        "# ***Importing and Downloading Major Libraries***"
      ]
    },
    {
      "cell_type": "code",
      "metadata": {
        "id": "55vNzydlP-yA",
        "colab": {
          "base_uri": "https://localhost:8080/",
          "height": 0
        },
        "outputId": "39bb486e-22f2-4e7a-f837-69e2c54d66ad"
      },
      "source": [
        "!pip install --upgrade scikit-learn\n",
        "\n",
        "import pandas as pd\n",
        "import numpy as np\n",
        "import seaborn as sns\n",
        "import matplotlib.pyplot as plt"
      ],
      "execution_count": 68,
      "outputs": [
        {
          "output_type": "stream",
          "name": "stdout",
          "text": [
            "Requirement already satisfied: scikit-learn in /usr/local/lib/python3.7/dist-packages (1.0.1)\n",
            "Requirement already satisfied: numpy>=1.14.6 in /usr/local/lib/python3.7/dist-packages (from scikit-learn) (1.19.5)\n",
            "Requirement already satisfied: threadpoolctl>=2.0.0 in /usr/local/lib/python3.7/dist-packages (from scikit-learn) (3.0.0)\n",
            "Requirement already satisfied: scipy>=1.1.0 in /usr/local/lib/python3.7/dist-packages (from scikit-learn) (1.4.1)\n",
            "Requirement already satisfied: joblib>=0.11 in /usr/local/lib/python3.7/dist-packages (from scikit-learn) (1.0.1)\n"
          ]
        }
      ]
    },
    {
      "cell_type": "markdown",
      "metadata": {
        "id": "NUiePytpNwoU"
      },
      "source": [
        "# **Working** **on** **The** ***Data***"
      ]
    },
    {
      "cell_type": "code",
      "metadata": {
        "id": "Toj5uBXCScp7"
      },
      "source": [
        "#Loading data into variable using Pandas\n",
        "data_df = pd.read_csv('/content/PM2.5 Global Air Pollution 2010-2017.csv')"
      ],
      "execution_count": 69,
      "outputs": []
    },
    {
      "cell_type": "code",
      "metadata": {
        "colab": {
          "base_uri": "https://localhost:8080/",
          "height": 414
        },
        "id": "EsYzkrrqDckS",
        "outputId": "56cac2f6-5afd-4eb8-e170-917218266dc4"
      },
      "source": [
        "#First Look at Dataset\n",
        "data_df"
      ],
      "execution_count": 70,
      "outputs": [
        {
          "output_type": "execute_result",
          "data": {
            "text/html": [
              "<div>\n",
              "<style scoped>\n",
              "    .dataframe tbody tr th:only-of-type {\n",
              "        vertical-align: middle;\n",
              "    }\n",
              "\n",
              "    .dataframe tbody tr th {\n",
              "        vertical-align: top;\n",
              "    }\n",
              "\n",
              "    .dataframe thead th {\n",
              "        text-align: right;\n",
              "    }\n",
              "</style>\n",
              "<table border=\"1\" class=\"dataframe\">\n",
              "  <thead>\n",
              "    <tr style=\"text-align: right;\">\n",
              "      <th></th>\n",
              "      <th>Country Name</th>\n",
              "      <th>Country Code</th>\n",
              "      <th>2010</th>\n",
              "      <th>2011</th>\n",
              "      <th>2012</th>\n",
              "      <th>2013</th>\n",
              "      <th>2014</th>\n",
              "      <th>2015</th>\n",
              "      <th>2016</th>\n",
              "      <th>2017</th>\n",
              "    </tr>\n",
              "  </thead>\n",
              "  <tbody>\n",
              "    <tr>\n",
              "      <th>0</th>\n",
              "      <td>Afghanistan</td>\n",
              "      <td>AFG</td>\n",
              "      <td>65.245592</td>\n",
              "      <td>66.835727</td>\n",
              "      <td>66.023174</td>\n",
              "      <td>61.366745</td>\n",
              "      <td>59.010330</td>\n",
              "      <td>61.252656</td>\n",
              "      <td>56.287047</td>\n",
              "      <td>56.910808</td>\n",
              "    </tr>\n",
              "    <tr>\n",
              "      <th>1</th>\n",
              "      <td>Angola</td>\n",
              "      <td>AGO</td>\n",
              "      <td>33.787247</td>\n",
              "      <td>33.104195</td>\n",
              "      <td>33.415495</td>\n",
              "      <td>34.663923</td>\n",
              "      <td>32.974025</td>\n",
              "      <td>32.729873</td>\n",
              "      <td>31.785389</td>\n",
              "      <td>32.388505</td>\n",
              "    </tr>\n",
              "    <tr>\n",
              "      <th>2</th>\n",
              "      <td>Albania</td>\n",
              "      <td>ALB</td>\n",
              "      <td>21.277828</td>\n",
              "      <td>22.772537</td>\n",
              "      <td>20.578259</td>\n",
              "      <td>19.938517</td>\n",
              "      <td>18.883955</td>\n",
              "      <td>19.512540</td>\n",
              "      <td>18.189934</td>\n",
              "      <td>18.200603</td>\n",
              "    </tr>\n",
              "    <tr>\n",
              "      <th>3</th>\n",
              "      <td>Andorra</td>\n",
              "      <td>AND</td>\n",
              "      <td>12.807198</td>\n",
              "      <td>13.273506</td>\n",
              "      <td>12.407053</td>\n",
              "      <td>11.813673</td>\n",
              "      <td>10.830418</td>\n",
              "      <td>11.462178</td>\n",
              "      <td>10.255834</td>\n",
              "      <td>10.307621</td>\n",
              "    </tr>\n",
              "    <tr>\n",
              "      <th>4</th>\n",
              "      <td>Arab World</td>\n",
              "      <td>ARB</td>\n",
              "      <td>53.787001</td>\n",
              "      <td>52.652279</td>\n",
              "      <td>53.297270</td>\n",
              "      <td>54.053822</td>\n",
              "      <td>52.583603</td>\n",
              "      <td>60.406813</td>\n",
              "      <td>58.764905</td>\n",
              "      <td>58.689259</td>\n",
              "    </tr>\n",
              "    <tr>\n",
              "      <th>...</th>\n",
              "      <td>...</td>\n",
              "      <td>...</td>\n",
              "      <td>...</td>\n",
              "      <td>...</td>\n",
              "      <td>...</td>\n",
              "      <td>...</td>\n",
              "      <td>...</td>\n",
              "      <td>...</td>\n",
              "      <td>...</td>\n",
              "      <td>...</td>\n",
              "    </tr>\n",
              "    <tr>\n",
              "      <th>235</th>\n",
              "      <td>Samoa</td>\n",
              "      <td>WSM</td>\n",
              "      <td>14.288094</td>\n",
              "      <td>14.693096</td>\n",
              "      <td>13.627882</td>\n",
              "      <td>13.382522</td>\n",
              "      <td>12.643560</td>\n",
              "      <td>12.321796</td>\n",
              "      <td>11.366298</td>\n",
              "      <td>11.548027</td>\n",
              "    </tr>\n",
              "    <tr>\n",
              "      <th>236</th>\n",
              "      <td>Yemen, Rep.</td>\n",
              "      <td>YEM</td>\n",
              "      <td>45.979470</td>\n",
              "      <td>50.835291</td>\n",
              "      <td>51.434454</td>\n",
              "      <td>52.998443</td>\n",
              "      <td>48.338653</td>\n",
              "      <td>54.260287</td>\n",
              "      <td>50.127626</td>\n",
              "      <td>50.456007</td>\n",
              "    </tr>\n",
              "    <tr>\n",
              "      <th>237</th>\n",
              "      <td>South Africa</td>\n",
              "      <td>ZAF</td>\n",
              "      <td>27.138587</td>\n",
              "      <td>26.557873</td>\n",
              "      <td>26.577087</td>\n",
              "      <td>26.729262</td>\n",
              "      <td>26.722212</td>\n",
              "      <td>26.112972</td>\n",
              "      <td>25.140416</td>\n",
              "      <td>25.102205</td>\n",
              "    </tr>\n",
              "    <tr>\n",
              "      <th>238</th>\n",
              "      <td>Zambia</td>\n",
              "      <td>ZMB</td>\n",
              "      <td>28.836379</td>\n",
              "      <td>28.987117</td>\n",
              "      <td>29.742040</td>\n",
              "      <td>29.112221</td>\n",
              "      <td>28.493252</td>\n",
              "      <td>28.375452</td>\n",
              "      <td>27.355674</td>\n",
              "      <td>27.438035</td>\n",
              "    </tr>\n",
              "    <tr>\n",
              "      <th>239</th>\n",
              "      <td>Zimbabwe</td>\n",
              "      <td>ZWE</td>\n",
              "      <td>23.231479</td>\n",
              "      <td>23.074213</td>\n",
              "      <td>23.198097</td>\n",
              "      <td>23.111088</td>\n",
              "      <td>22.805950</td>\n",
              "      <td>21.733709</td>\n",
              "      <td>21.726947</td>\n",
              "      <td>22.251671</td>\n",
              "    </tr>\n",
              "  </tbody>\n",
              "</table>\n",
              "<p>240 rows × 10 columns</p>\n",
              "</div>"
            ],
            "text/plain": [
              "     Country Name Country Code       2010  ...       2015       2016       2017\n",
              "0     Afghanistan          AFG  65.245592  ...  61.252656  56.287047  56.910808\n",
              "1          Angola          AGO  33.787247  ...  32.729873  31.785389  32.388505\n",
              "2         Albania          ALB  21.277828  ...  19.512540  18.189934  18.200603\n",
              "3         Andorra          AND  12.807198  ...  11.462178  10.255834  10.307621\n",
              "4      Arab World          ARB  53.787001  ...  60.406813  58.764905  58.689259\n",
              "..            ...          ...        ...  ...        ...        ...        ...\n",
              "235         Samoa          WSM  14.288094  ...  12.321796  11.366298  11.548027\n",
              "236   Yemen, Rep.          YEM  45.979470  ...  54.260287  50.127626  50.456007\n",
              "237  South Africa          ZAF  27.138587  ...  26.112972  25.140416  25.102205\n",
              "238        Zambia          ZMB  28.836379  ...  28.375452  27.355674  27.438035\n",
              "239      Zimbabwe          ZWE  23.231479  ...  21.733709  21.726947  22.251671\n",
              "\n",
              "[240 rows x 10 columns]"
            ]
          },
          "metadata": {},
          "execution_count": 70
        }
      ]
    },
    {
      "cell_type": "code",
      "metadata": {
        "colab": {
          "base_uri": "https://localhost:8080/",
          "height": 0
        },
        "id": "MaKWZz_BDkSW",
        "outputId": "7f34abcd-955f-44a9-ecb5-b13cd5143e3d"
      },
      "source": [
        "#Target Attribute\n",
        "data_df['2017']"
      ],
      "execution_count": 71,
      "outputs": [
        {
          "output_type": "execute_result",
          "data": {
            "text/plain": [
              "0      56.910808\n",
              "1      32.388505\n",
              "2      18.200603\n",
              "3      10.307621\n",
              "4      58.689259\n",
              "         ...    \n",
              "235    11.548027\n",
              "236    50.456007\n",
              "237    25.102205\n",
              "238    27.438035\n",
              "239    22.251671\n",
              "Name: 2017, Length: 240, dtype: float64"
            ]
          },
          "metadata": {},
          "execution_count": 71
        }
      ]
    },
    {
      "cell_type": "code",
      "metadata": {
        "colab": {
          "base_uri": "https://localhost:8080/",
          "height": 0
        },
        "id": "1NR9gUfJDwp0",
        "outputId": "8ba9154e-2748-4208-bc3b-bcd872cbdba7"
      },
      "source": [
        "#Features\n",
        "list(data_df.columns)"
      ],
      "execution_count": 72,
      "outputs": [
        {
          "output_type": "execute_result",
          "data": {
            "text/plain": [
              "['Country Name',\n",
              " 'Country Code',\n",
              " '2010',\n",
              " '2011',\n",
              " '2012',\n",
              " '2013',\n",
              " '2014',\n",
              " '2015',\n",
              " '2016',\n",
              " '2017']"
            ]
          },
          "metadata": {},
          "execution_count": 72
        }
      ]
    },
    {
      "cell_type": "code",
      "metadata": {
        "colab": {
          "base_uri": "https://localhost:8080/",
          "height": 414
        },
        "id": "n_UsfvjAfq21",
        "outputId": "c7bdd554-434c-4e4f-c6c4-2acc38b89b93"
      },
      "source": [
        "#checking for null values in whole dataset\n",
        "data_df.isnull()\n",
        "\n",
        "#there is no null values found in this dataset\n",
        "#uncomment respectively if you add an extra to check the validity of project\n",
        "\n",
        "#data_df.fillna(method ='pad') \n",
        "#data_df.fillna(method ='bfill')\n",
        "#data_df.interpolate(method ='linear', limit_direction ='forward')\n",
        "#data_df.dropna(axis = 0, how ='any')\n",
        "\n",
        "#data_df.isnull()\n"
      ],
      "execution_count": 73,
      "outputs": [
        {
          "output_type": "execute_result",
          "data": {
            "text/html": [
              "<div>\n",
              "<style scoped>\n",
              "    .dataframe tbody tr th:only-of-type {\n",
              "        vertical-align: middle;\n",
              "    }\n",
              "\n",
              "    .dataframe tbody tr th {\n",
              "        vertical-align: top;\n",
              "    }\n",
              "\n",
              "    .dataframe thead th {\n",
              "        text-align: right;\n",
              "    }\n",
              "</style>\n",
              "<table border=\"1\" class=\"dataframe\">\n",
              "  <thead>\n",
              "    <tr style=\"text-align: right;\">\n",
              "      <th></th>\n",
              "      <th>Country Name</th>\n",
              "      <th>Country Code</th>\n",
              "      <th>2010</th>\n",
              "      <th>2011</th>\n",
              "      <th>2012</th>\n",
              "      <th>2013</th>\n",
              "      <th>2014</th>\n",
              "      <th>2015</th>\n",
              "      <th>2016</th>\n",
              "      <th>2017</th>\n",
              "    </tr>\n",
              "  </thead>\n",
              "  <tbody>\n",
              "    <tr>\n",
              "      <th>0</th>\n",
              "      <td>False</td>\n",
              "      <td>False</td>\n",
              "      <td>False</td>\n",
              "      <td>False</td>\n",
              "      <td>False</td>\n",
              "      <td>False</td>\n",
              "      <td>False</td>\n",
              "      <td>False</td>\n",
              "      <td>False</td>\n",
              "      <td>False</td>\n",
              "    </tr>\n",
              "    <tr>\n",
              "      <th>1</th>\n",
              "      <td>False</td>\n",
              "      <td>False</td>\n",
              "      <td>False</td>\n",
              "      <td>False</td>\n",
              "      <td>False</td>\n",
              "      <td>False</td>\n",
              "      <td>False</td>\n",
              "      <td>False</td>\n",
              "      <td>False</td>\n",
              "      <td>False</td>\n",
              "    </tr>\n",
              "    <tr>\n",
              "      <th>2</th>\n",
              "      <td>False</td>\n",
              "      <td>False</td>\n",
              "      <td>False</td>\n",
              "      <td>False</td>\n",
              "      <td>False</td>\n",
              "      <td>False</td>\n",
              "      <td>False</td>\n",
              "      <td>False</td>\n",
              "      <td>False</td>\n",
              "      <td>False</td>\n",
              "    </tr>\n",
              "    <tr>\n",
              "      <th>3</th>\n",
              "      <td>False</td>\n",
              "      <td>False</td>\n",
              "      <td>False</td>\n",
              "      <td>False</td>\n",
              "      <td>False</td>\n",
              "      <td>False</td>\n",
              "      <td>False</td>\n",
              "      <td>False</td>\n",
              "      <td>False</td>\n",
              "      <td>False</td>\n",
              "    </tr>\n",
              "    <tr>\n",
              "      <th>4</th>\n",
              "      <td>False</td>\n",
              "      <td>False</td>\n",
              "      <td>False</td>\n",
              "      <td>False</td>\n",
              "      <td>False</td>\n",
              "      <td>False</td>\n",
              "      <td>False</td>\n",
              "      <td>False</td>\n",
              "      <td>False</td>\n",
              "      <td>False</td>\n",
              "    </tr>\n",
              "    <tr>\n",
              "      <th>...</th>\n",
              "      <td>...</td>\n",
              "      <td>...</td>\n",
              "      <td>...</td>\n",
              "      <td>...</td>\n",
              "      <td>...</td>\n",
              "      <td>...</td>\n",
              "      <td>...</td>\n",
              "      <td>...</td>\n",
              "      <td>...</td>\n",
              "      <td>...</td>\n",
              "    </tr>\n",
              "    <tr>\n",
              "      <th>235</th>\n",
              "      <td>False</td>\n",
              "      <td>False</td>\n",
              "      <td>False</td>\n",
              "      <td>False</td>\n",
              "      <td>False</td>\n",
              "      <td>False</td>\n",
              "      <td>False</td>\n",
              "      <td>False</td>\n",
              "      <td>False</td>\n",
              "      <td>False</td>\n",
              "    </tr>\n",
              "    <tr>\n",
              "      <th>236</th>\n",
              "      <td>False</td>\n",
              "      <td>False</td>\n",
              "      <td>False</td>\n",
              "      <td>False</td>\n",
              "      <td>False</td>\n",
              "      <td>False</td>\n",
              "      <td>False</td>\n",
              "      <td>False</td>\n",
              "      <td>False</td>\n",
              "      <td>False</td>\n",
              "    </tr>\n",
              "    <tr>\n",
              "      <th>237</th>\n",
              "      <td>False</td>\n",
              "      <td>False</td>\n",
              "      <td>False</td>\n",
              "      <td>False</td>\n",
              "      <td>False</td>\n",
              "      <td>False</td>\n",
              "      <td>False</td>\n",
              "      <td>False</td>\n",
              "      <td>False</td>\n",
              "      <td>False</td>\n",
              "    </tr>\n",
              "    <tr>\n",
              "      <th>238</th>\n",
              "      <td>False</td>\n",
              "      <td>False</td>\n",
              "      <td>False</td>\n",
              "      <td>False</td>\n",
              "      <td>False</td>\n",
              "      <td>False</td>\n",
              "      <td>False</td>\n",
              "      <td>False</td>\n",
              "      <td>False</td>\n",
              "      <td>False</td>\n",
              "    </tr>\n",
              "    <tr>\n",
              "      <th>239</th>\n",
              "      <td>False</td>\n",
              "      <td>False</td>\n",
              "      <td>False</td>\n",
              "      <td>False</td>\n",
              "      <td>False</td>\n",
              "      <td>False</td>\n",
              "      <td>False</td>\n",
              "      <td>False</td>\n",
              "      <td>False</td>\n",
              "      <td>False</td>\n",
              "    </tr>\n",
              "  </tbody>\n",
              "</table>\n",
              "<p>240 rows × 10 columns</p>\n",
              "</div>"
            ],
            "text/plain": [
              "     Country Name  Country Code   2010   2011  ...   2014   2015   2016   2017\n",
              "0           False         False  False  False  ...  False  False  False  False\n",
              "1           False         False  False  False  ...  False  False  False  False\n",
              "2           False         False  False  False  ...  False  False  False  False\n",
              "3           False         False  False  False  ...  False  False  False  False\n",
              "4           False         False  False  False  ...  False  False  False  False\n",
              "..            ...           ...    ...    ...  ...    ...    ...    ...    ...\n",
              "235         False         False  False  False  ...  False  False  False  False\n",
              "236         False         False  False  False  ...  False  False  False  False\n",
              "237         False         False  False  False  ...  False  False  False  False\n",
              "238         False         False  False  False  ...  False  False  False  False\n",
              "239         False         False  False  False  ...  False  False  False  False\n",
              "\n",
              "[240 rows x 10 columns]"
            ]
          },
          "metadata": {},
          "execution_count": 73
        }
      ]
    },
    {
      "cell_type": "code",
      "metadata": {
        "colab": {
          "base_uri": "https://localhost:8080/",
          "height": 0
        },
        "id": "kaaRfBujmSow",
        "outputId": "7914b4be-ac32-4863-8ae4-fc4bacdcc036"
      },
      "source": [
        "#Checking for null values/ confirming the previous table using for loop for each column\n",
        "for i in range(2010,2017):\n",
        "  i = str(i)\n",
        "  y = data_df[i].isnull().values.any()\n",
        "  print(y)"
      ],
      "execution_count": 74,
      "outputs": [
        {
          "output_type": "stream",
          "name": "stdout",
          "text": [
            "False\n",
            "False\n",
            "False\n",
            "False\n",
            "False\n",
            "False\n",
            "False\n"
          ]
        }
      ]
    },
    {
      "cell_type": "code",
      "metadata": {
        "colab": {
          "base_uri": "https://localhost:8080/",
          "height": 350
        },
        "id": "XLYrPzZahePp",
        "outputId": "71356f8c-e82d-427b-a81a-7d3e4d99e2c6"
      },
      "source": [
        "#heatmap of data proving there is no null values\n",
        "sns.heatmap(data_df.isnull(),yticklabels=False, annot=True)"
      ],
      "execution_count": 75,
      "outputs": [
        {
          "output_type": "execute_result",
          "data": {
            "text/plain": [
              "<matplotlib.axes._subplots.AxesSubplot at 0x7f264f2843d0>"
            ]
          },
          "metadata": {},
          "execution_count": 75
        },
        {
          "output_type": "display_data",
          "data": {
            "image/png": "[encoded data removed]",
            "text/plain": [
              "<Figure size 432x288 with 2 Axes>"
            ]
          },
          "metadata": {
            "needs_background": "light"
          }
        }
      ]
    },
    {
      "cell_type": "code",
      "metadata": {
        "id": "WETJonb-jQ0s",
        "colab": {
          "base_uri": "https://localhost:8080/",
          "height": 462
        },
        "outputId": "9b10abbb-ed15-461b-e375-34e50929a6aa"
      },
      "source": [
        "#Outlier detection\n",
        "temp = data_df.drop(['Country Name','Country Code'],axis = 1)\n",
        "\n",
        "#Our data's main label is country rather than the year. So we need to detect outlier row wise instead of column wise\n",
        "for ind,row in temp.head().iterrows():\n",
        "  sns.boxplot(row.tolist())\n",
        "\n",
        "#NOTE: If you get the futureWarning error it is because there is no label given. However as we can see in the graph there is no outlier"
      ],
      "execution_count": 76,
      "outputs": [
        {
          "output_type": "stream",
          "name": "stderr",
          "text": [
            "/usr/local/lib/python3.7/dist-packages/seaborn/_decorators.py:43: FutureWarning: Pass the following variable as a keyword arg: x. From version 0.12, the only valid positional argument will be `data`, and passing other arguments without an explicit keyword will result in an error or misinterpretation.\n",
            "  FutureWarning\n",
            "/usr/local/lib/python3.7/dist-packages/seaborn/_decorators.py:43: FutureWarning: Pass the following variable as a keyword arg: x. From version 0.12, the only valid positional argument will be `data`, and passing other arguments without an explicit keyword will result in an error or misinterpretation.\n",
            "  FutureWarning\n",
            "/usr/local/lib/python3.7/dist-packages/seaborn/_decorators.py:43: FutureWarning: Pass the following variable as a keyword arg: x. From version 0.12, the only valid positional argument will be `data`, and passing other arguments without an explicit keyword will result in an error or misinterpretation.\n",
            "  FutureWarning\n",
            "/usr/local/lib/python3.7/dist-packages/seaborn/_decorators.py:43: FutureWarning: Pass the following variable as a keyword arg: x. From version 0.12, the only valid positional argument will be `data`, and passing other arguments without an explicit keyword will result in an error or misinterpretation.\n",
            "  FutureWarning\n",
            "/usr/local/lib/python3.7/dist-packages/seaborn/_decorators.py:43: FutureWarning: Pass the following variable as a keyword arg: x. From version 0.12, the only valid positional argument will be `data`, and passing other arguments without an explicit keyword will result in an error or misinterpretation.\n",
            "  FutureWarning\n"
          ]
        },
        {
          "output_type": "display_data",
          "data": {
            "image/png": "[encoded data removed]",
            "text/plain": [
              "<Figure size 432x288 with 1 Axes>"
            ]
          },
          "metadata": {
            "needs_background": "light"
          }
        }
      ]
    },
    {
      "cell_type": "markdown",
      "metadata": {
        "id": "q8PXYGNAOsaY"
      },
      "source": [
        "# ***Splitting The Data***"
      ]
    },
    {
      "cell_type": "code",
      "metadata": {
        "id": "BXloVD5KVpEN"
      },
      "source": [
        "#Preparing the data to get splitted\n",
        "x = data_df.drop(['2017'], axis = 1)\n",
        "y = data_df['2017']\n",
        "\n",
        "#splitting into train and test\n",
        "#best output was obtained for 30-70 split with no randomization \n",
        "from sklearn.model_selection import train_test_split\n",
        "x_train_temp, x_test_temp, y_train_temp, y_test_temp = train_test_split(x,y,test_size = 0.3, random_state = 0)\n",
        "\n",
        "#saving country names in different variables\n",
        "test_countries = x_test_temp['Country Name']\n",
        "train_countries = x_train_temp['Country Name']\n",
        "test_codes = x_test_temp['Country Code']\n",
        "train_codes = x_test_temp['Country Code']\n",
        "name = data_df['Country Name']\n",
        "code = data_df['Country Code']\n",
        "\n",
        "#Preparing the Splitted data to load in Model\n",
        "x_train = x_train_temp.drop(['Country Name','Country Code'], axis = 1)\n",
        "y_train = y_train_temp\n",
        "x_test = x_test_temp.drop(['Country Name','Country Code'], axis = 1)\n",
        "y_test = y_test_temp\n",
        "\n"
      ],
      "execution_count": 77,
      "outputs": []
    },
    {
      "cell_type": "markdown",
      "metadata": {
        "id": "clbV3SS6cOKD"
      },
      "source": [
        "# ***Generalized Linear Regression Using Gamma Regression***"
      ]
    },
    {
      "cell_type": "code",
      "metadata": {
        "id": "gqkfm8OdcSjn",
        "colab": {
          "base_uri": "https://localhost:8080/",
          "height": 0
        },
        "outputId": "e050e53f-d17b-464d-98fa-2ba0f751f9c6"
      },
      "source": [
        "#importing specific library for gama regressor\n",
        "from sklearn.linear_model import GammaRegressor\n",
        "\n",
        "#Running the model on our splitted data\n",
        "modelGamma = GammaRegressor()\n",
        "modelGamma.fit(x_train, y_train)"
      ],
      "execution_count": 78,
      "outputs": [
        {
          "output_type": "execute_result",
          "data": {
            "text/plain": [
              "GammaRegressor()"
            ]
          },
          "metadata": {},
          "execution_count": 78
        }
      ]
    },
    {
      "cell_type": "code",
      "metadata": {
        "id": "0SPsZhYRee6F",
        "colab": {
          "base_uri": "https://localhost:8080/",
          "height": 0
        },
        "outputId": "7b0bcb0a-ad83-4a29-f8ac-8f8b468af779"
      },
      "source": [
        "#Storing the prediction in variable\n",
        "y_predGamma = modelGamma.predict(x_test)\n",
        "y_predGamma"
      ],
      "execution_count": 79,
      "outputs": [
        {
          "output_type": "execute_result",
          "data": {
            "text/plain": [
              "array([ 14.0988688 ,  13.49971036,  20.99165347,  12.98047721,\n",
              "        13.60711409,  11.86262576, 115.04818148,  29.79830512,\n",
              "        20.62491967,  37.34549215,  26.50436738,  11.33355307,\n",
              "        13.53185958,  74.6569349 ,  40.85174596,  15.75310471,\n",
              "       133.27482464,  19.40765822,  38.29718352,  13.92886687,\n",
              "        33.32320167,  13.57115482,  34.19451706,  16.27510036,\n",
              "        34.9700198 ,  16.95284765,  21.26065766,  15.72895591,\n",
              "        18.04237961,  60.19541785,  39.70080345,  15.96454209,\n",
              "        18.88285851,  18.99711332,  32.1260139 ,  25.21202343,\n",
              "        51.36290435,  14.04518271,  12.7676127 ,  15.40463429,\n",
              "        11.83040268,  17.39234703,  20.44012363,  17.96477429,\n",
              "        14.36934486,  29.30495988,  18.6803907 ,  27.24918248,\n",
              "        24.47891932,  19.22302464,  44.95866907,  16.00858757,\n",
              "        13.37108917,  12.88567727,  53.28817982,  16.33113914,\n",
              "        13.01998679,  16.82040653,  16.26074321,  21.58492463,\n",
              "        19.26465089,  51.73601848,  16.57871318,  16.55964474,\n",
              "        15.68418118,  21.56824033,  34.03290304,  37.34309536,\n",
              "        36.33435236,  39.07570428,  60.13570071,  27.92897169])"
            ]
          },
          "metadata": {},
          "execution_count": 79
        }
      ]
    },
    {
      "cell_type": "code",
      "metadata": {
        "colab": {
          "base_uri": "https://localhost:8080/",
          "height": 0
        },
        "id": "ZiieYqxpeiO-",
        "outputId": "982bdd78-cb6b-4f9c-c135-27a490db3eef"
      },
      "source": [
        "#Calculating Accuracy and RMS Error\n",
        "from sklearn.metrics import r2_score,mean_squared_error\n",
        "print(r2_score(y_test,y_predGamma))\n",
        "print(np.sqrt(mean_squared_error(y_test, y_predGamma)))"
      ],
      "execution_count": 80,
      "outputs": [
        {
          "output_type": "stream",
          "name": "stdout",
          "text": [
            "0.827720487119502\n",
            "7.53685235156388\n"
          ]
        }
      ]
    },
    {
      "cell_type": "code",
      "metadata": {
        "colab": {
          "base_uri": "https://localhost:8080/",
          "height": 531
        },
        "id": "ZhgMeM_IYPci",
        "outputId": "1c3ebb20-12b2-4943-d01d-8cf820c52f7f"
      },
      "source": [
        "#plotting Scatter graph for Actual vs Predicted\n",
        "plt.figure(figsize=(8,8))\n",
        "plt.scatter(y_test,y_predGamma, color = 'red')\n",
        "plt.xlabel('Actual 2017')\n",
        "plt.ylabel('Predicted 2017')\n",
        "plt.title('Gamma Regressor Actual 2017 vs. Predicted 2017')"
      ],
      "execution_count": 81,
      "outputs": [
        {
          "output_type": "execute_result",
          "data": {
            "text/plain": [
              "Text(0.5, 1.0, 'Gamma Regressor Actual 2017 vs. Predicted 2017')"
            ]
          },
          "metadata": {},
          "execution_count": 81
        },
        {
          "output_type": "display_data",
          "data": {
            "image/png": "[encoded data removed]",
            "text/plain": [
              "<Figure size 576x576 with 1 Axes>"
            ]
          },
          "metadata": {
            "needs_background": "light"
          }
        }
      ]
    },
    {
      "cell_type": "code",
      "metadata": {
        "colab": {
          "base_uri": "https://localhost:8080/",
          "height": 282
        },
        "id": "WKGN2N9eZEzZ",
        "outputId": "36b43a76-83a1-429b-cb1b-4be9001911b9"
      },
      "source": [
        "#plotting continous graph for Actual vs Predicted\n",
        "plt.plot(y_test,y_predGamma ,'g-')"
      ],
      "execution_count": 82,
      "outputs": [
        {
          "output_type": "execute_result",
          "data": {
            "text/plain": [
              "[<matplotlib.lines.Line2D at 0x7f264dd0e490>]"
            ]
          },
          "metadata": {},
          "execution_count": 82
        },
        {
          "output_type": "display_data",
          "data": {
            "image/png": "[encoded data removed]",
            "text/plain": [
              "<Figure size 432x288 with 1 Axes>"
            ]
          },
          "metadata": {
            "needs_background": "light"
          }
        }
      ]
    },
    {
      "cell_type": "code",
      "metadata": {
        "id": "jRtBV9TfZM_3"
      },
      "source": [
        "#This model uses Quadratic hypothesis function as evident by graph\n",
        "#Hence the accuracy is 0.82\n",
        "#Lets try with a Linear hypothsis function\n",
        "#best way to address this problem is to use Simple Linear Regression"
      ],
      "execution_count": 83,
      "outputs": []
    },
    {
      "cell_type": "markdown",
      "metadata": {
        "id": "Qau3AYrFOOi5"
      },
      "source": [
        "# ***Linear Regression Model***"
      ]
    },
    {
      "cell_type": "code",
      "metadata": {
        "colab": {
          "base_uri": "https://localhost:8080/",
          "height": 0
        },
        "id": "3VGEMLMvWNQJ",
        "outputId": "0b184c17-2f21-41ef-d567-b296c8be50aa"
      },
      "source": [
        "#importing LinearRegression Algorithm\n",
        "from sklearn.linear_model import LinearRegression\n",
        "\n",
        "#Running the model on our splitted data\n",
        "modelLR = LinearRegression()\n",
        "modelLR.fit(x_train,y_train)"
      ],
      "execution_count": 84,
      "outputs": [
        {
          "output_type": "execute_result",
          "data": {
            "text/plain": [
              "LinearRegression()"
            ]
          },
          "metadata": {},
          "execution_count": 84
        }
      ]
    },
    {
      "cell_type": "code",
      "metadata": {
        "id": "ZMoc5UKCWu-t",
        "colab": {
          "base_uri": "https://localhost:8080/",
          "height": 0
        },
        "outputId": "1570a384-0cb9-4c20-f932-7b90664c2d95"
      },
      "source": [
        "#Storing the prediction in variable\n",
        "y_predLr = modelLR.predict(x_test)\n",
        "y_predLr"
      ],
      "execution_count": 85,
      "outputs": [
        {
          "output_type": "execute_result",
          "data": {
            "text/plain": [
              "array([13.10019325, 11.69948933, 26.63994583, 10.2790596 , 11.6363029 ,\n",
              "        7.28225588, 86.25037088, 38.10419841, 23.34350548, 44.44746746,\n",
              "       35.5286658 ,  5.96579199, 11.34265401, 71.4308761 , 45.51607481,\n",
              "       16.18904084, 82.41402299, 23.0995543 , 44.7473802 , 12.2583724 ,\n",
              "       39.05661248, 11.53728224, 40.56163964, 16.63136052, 40.9433535 ,\n",
              "       18.75116897, 25.12407378, 16.12310087, 20.24835239, 58.57560502,\n",
              "       43.17556351, 15.66878158, 21.46308411, 16.38900482, 36.49974996,\n",
              "       30.45864552, 54.54517387, 12.4650757 ,  9.59136699, 15.86162737,\n",
              "        7.1960572 , 18.99141228, 24.00475383, 19.33675658, 13.26729256,\n",
              "       38.55600602, 21.0400899 , 32.40516543, 28.63893096, 21.66829446,\n",
              "       49.038065  , 15.81902638, 11.37573827, 10.00296638, 56.72681939,\n",
              "       17.56434543, 10.15559803, 17.56766161, 16.60605299, 25.31668853,\n",
              "       22.05232959, 54.80037587, 17.77471344, 16.81332099, 15.93979517,\n",
              "       25.74691196, 42.03467833, 44.44522388, 40.59612982, 44.01787683,\n",
              "       59.25316097, 33.50630385])"
            ]
          },
          "metadata": {},
          "execution_count": 85
        }
      ]
    },
    {
      "cell_type": "code",
      "metadata": {
        "colab": {
          "base_uri": "https://localhost:8080/",
          "height": 531
        },
        "id": "pXY36IvUjTGC",
        "outputId": "8f02d3d8-ef2b-4d41-a2de-625e14884a03"
      },
      "source": [
        "#plotting Scatter graph for Actual vs Predicted\n",
        "plt.figure(figsize=(8,8))\n",
        "plt.scatter(y_test,y_predLr, color = 'red')\n",
        "plt.xlabel('Actual 2017')\n",
        "plt.ylabel('Predicted 2017')\n",
        "plt.title('Actual 2017 vs. Predicted 2017')"
      ],
      "execution_count": 86,
      "outputs": [
        {
          "output_type": "execute_result",
          "data": {
            "text/plain": [
              "Text(0.5, 1.0, 'Actual 2017 vs. Predicted 2017')"
            ]
          },
          "metadata": {},
          "execution_count": 86
        },
        {
          "output_type": "display_data",
          "data": {
            "image/png": "[encoded data removed]",
            "text/plain": [
              "<Figure size 576x576 with 1 Axes>"
            ]
          },
          "metadata": {
            "needs_background": "light"
          }
        }
      ]
    },
    {
      "cell_type": "code",
      "metadata": {
        "colab": {
          "base_uri": "https://localhost:8080/",
          "height": 286
        },
        "id": "6Me8jH0v16eV",
        "outputId": "2be053b4-0c9e-4988-f635-a83b99e88825"
      },
      "source": [
        "#plotting continous graph for Actual vs Predicted\n",
        "plt.plot(y_test,y_predLr ,'g-')"
      ],
      "execution_count": 87,
      "outputs": [
        {
          "output_type": "execute_result",
          "data": {
            "text/plain": [
              "[<matplotlib.lines.Line2D at 0x7f264e6ef850>]"
            ]
          },
          "metadata": {},
          "execution_count": 87
        },
        {
          "output_type": "display_data",
          "data": {
            "image/png": "[encoded data removed]",
            "text/plain": [
              "<Figure size 432x288 with 1 Axes>"
            ]
          },
          "metadata": {
            "needs_background": "light"
          }
        }
      ]
    },
    {
      "cell_type": "code",
      "metadata": {
        "id": "NN1ttIzLZdXW"
      },
      "source": [
        "#Now as we can see in graph we have obtained best results!\n",
        "#So our accuracy will be better than Gamma Regressor"
      ],
      "execution_count": 88,
      "outputs": []
    },
    {
      "cell_type": "code",
      "metadata": {
        "colab": {
          "base_uri": "https://localhost:8080/",
          "height": 414
        },
        "id": "7QKrglgEjxUX",
        "outputId": "5292ecf8-1465-47e5-e4bd-f9fbe36a3282"
      },
      "source": [
        "#Tabular form of Prediction vs Actual and difference in their values\n",
        "pred_y_df_Lr = pd.DataFrame({'Country Name':test_countries,'Country Code':test_codes, 'Actual Value':y_test,'predicted value':y_predLr, 'Difference': y_test-y_predLr})\n",
        "\n",
        "#Saving the comparision table in drive\n",
        "#You can donwload it from Home Page of Files\n",
        "pred_y_df_Lr.to_csv('/content/Comparision Table.csv')\n",
        "pred_y_df_Lr"
      ],
      "execution_count": 89,
      "outputs": [
        {
          "output_type": "execute_result",
          "data": {
            "text/html": [
              "<div>\n",
              "<style scoped>\n",
              "    .dataframe tbody tr th:only-of-type {\n",
              "        vertical-align: middle;\n",
              "    }\n",
              "\n",
              "    .dataframe tbody tr th {\n",
              "        vertical-align: top;\n",
              "    }\n",
              "\n",
              "    .dataframe thead th {\n",
              "        text-align: right;\n",
              "    }\n",
              "</style>\n",
              "<table border=\"1\" class=\"dataframe\">\n",
              "  <thead>\n",
              "    <tr style=\"text-align: right;\">\n",
              "      <th></th>\n",
              "      <th>Country Name</th>\n",
              "      <th>Country Code</th>\n",
              "      <th>Actual Value</th>\n",
              "      <th>predicted value</th>\n",
              "      <th>Difference</th>\n",
              "    </tr>\n",
              "  </thead>\n",
              "  <tbody>\n",
              "    <tr>\n",
              "      <th>109</th>\n",
              "      <td>Kazakhstan</td>\n",
              "      <td>KAZ</td>\n",
              "      <td>13.824288</td>\n",
              "      <td>13.100193</td>\n",
              "      <td>0.724095</td>\n",
              "    </tr>\n",
              "    <tr>\n",
              "      <th>71</th>\n",
              "      <td>France</td>\n",
              "      <td>FRA</td>\n",
              "      <td>11.814964</td>\n",
              "      <td>11.699489</td>\n",
              "      <td>0.115474</td>\n",
              "    </tr>\n",
              "    <tr>\n",
              "      <th>37</th>\n",
              "      <td>Cote d'Ivoire</td>\n",
              "      <td>CIV</td>\n",
              "      <td>25.886266</td>\n",
              "      <td>26.639946</td>\n",
              "      <td>-0.753679</td>\n",
              "    </tr>\n",
              "    <tr>\n",
              "      <th>74</th>\n",
              "      <td>United Kingdom</td>\n",
              "      <td>GBR</td>\n",
              "      <td>10.472690</td>\n",
              "      <td>10.279060</td>\n",
              "      <td>0.193631</td>\n",
              "    </tr>\n",
              "    <tr>\n",
              "      <th>108</th>\n",
              "      <td>Japan</td>\n",
              "      <td>JPN</td>\n",
              "      <td>11.704778</td>\n",
              "      <td>11.636303</td>\n",
              "      <td>0.068475</td>\n",
              "    </tr>\n",
              "    <tr>\n",
              "      <th>...</th>\n",
              "      <td>...</td>\n",
              "      <td>...</td>\n",
              "      <td>...</td>\n",
              "      <td>...</td>\n",
              "      <td>...</td>\n",
              "    </tr>\n",
              "    <tr>\n",
              "      <th>218</th>\n",
              "      <td>Sub-Saharan Africa (IDA &amp; IBRD countries)</td>\n",
              "      <td>TSS</td>\n",
              "      <td>44.602096</td>\n",
              "      <td>44.445224</td>\n",
              "      <td>0.156872</td>\n",
              "    </tr>\n",
              "    <tr>\n",
              "      <th>129</th>\n",
              "      <td>Late-demographic dividend</td>\n",
              "      <td>LTE</td>\n",
              "      <td>40.000207</td>\n",
              "      <td>40.596130</td>\n",
              "      <td>-0.595923</td>\n",
              "    </tr>\n",
              "    <tr>\n",
              "      <th>73</th>\n",
              "      <td>Gabon</td>\n",
              "      <td>GAB</td>\n",
              "      <td>44.385548</td>\n",
              "      <td>44.017877</td>\n",
              "      <td>0.367672</td>\n",
              "    </tr>\n",
              "    <tr>\n",
              "      <th>4</th>\n",
              "      <td>Arab World</td>\n",
              "      <td>ARB</td>\n",
              "      <td>58.689259</td>\n",
              "      <td>59.253161</td>\n",
              "      <td>-0.563902</td>\n",
              "    </tr>\n",
              "    <tr>\n",
              "      <th>107</th>\n",
              "      <td>Jordan</td>\n",
              "      <td>JOR</td>\n",
              "      <td>33.006081</td>\n",
              "      <td>33.506304</td>\n",
              "      <td>-0.500223</td>\n",
              "    </tr>\n",
              "  </tbody>\n",
              "</table>\n",
              "<p>72 rows × 5 columns</p>\n",
              "</div>"
            ],
            "text/plain": [
              "                                  Country Name  ... Difference\n",
              "109                                 Kazakhstan  ...   0.724095\n",
              "71                                      France  ...   0.115474\n",
              "37                               Cote d'Ivoire  ...  -0.753679\n",
              "74                              United Kingdom  ...   0.193631\n",
              "108                                      Japan  ...   0.068475\n",
              "..                                         ...  ...        ...\n",
              "218  Sub-Saharan Africa (IDA & IBRD countries)  ...   0.156872\n",
              "129                  Late-demographic dividend  ...  -0.595923\n",
              "73                                       Gabon  ...   0.367672\n",
              "4                                   Arab World  ...  -0.563902\n",
              "107                                     Jordan  ...  -0.500223\n",
              "\n",
              "[72 rows x 5 columns]"
            ]
          },
          "metadata": {},
          "execution_count": 89
        }
      ]
    },
    {
      "cell_type": "code",
      "metadata": {
        "colab": {
          "base_uri": "https://localhost:8080/",
          "height": 0
        },
        "id": "U2v3JehiiMmV",
        "outputId": "94ea8888-5e27-4e2b-f12f-da9a92bfe678"
      },
      "source": [
        "#Calculating Accuracy and RMS Error\n",
        "from sklearn.metrics import r2_score,mean_squared_error\n",
        "print(\"Accuracy: \",r2_score(y_test,y_predLr))\n",
        "print(\"Mean Sqaure Root Error: \",np.sqrt(mean_squared_error(y_test, y_predLr)))"
      ],
      "execution_count": 90,
      "outputs": [
        {
          "output_type": "stream",
          "name": "stdout",
          "text": [
            "Accuracy:  0.9958288024910575\n",
            "Mean Sqaure Root Error:  1.172744938160467\n"
          ]
        }
      ]
    },
    {
      "cell_type": "markdown",
      "metadata": {
        "id": "5O23A0-czfml"
      },
      "source": [
        "# **Conclusion**"
      ]
    },
    {
      "cell_type": "markdown",
      "metadata": {
        "id": "GTTTxShkzl1h"
      },
      "source": [
        "As the data set was not highly dimensional, the results of simple linear regression is better than advancede linear regressions. Also the data set was squeaky clean and no null values or outliers or redundant values, rows, columns were found. Hence the prediction was 99 percent accurate."
      ]
    },
    {
      "cell_type": "markdown",
      "metadata": {
        "id": "WbmZW9Ezz9_z"
      },
      "source": [
        "Since all the extensions are useless here we will have final answer from Linear Regression. Uncommnting the data reduction code, changing the directory for your new dataset and dropping respective columns, this code will work for all other datasets as well."
      ]
    }
  ]
}